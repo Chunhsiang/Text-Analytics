{
 "cells": [
  {
   "cell_type": "code",
   "execution_count": 1,
   "metadata": {},
   "outputs": [
    {
     "name": "stdout",
     "output_type": "stream",
     "text": [
      "Populating the interactive namespace from numpy and matplotlib\n"
     ]
    }
   ],
   "source": [
    "from pandas import Series, DataFrame\n",
    "import pandas as pd\n",
    "import numpy as np\n",
    "%pylab inline"
   ]
  },
  {
   "cell_type": "code",
   "execution_count": 2,
   "metadata": {},
   "outputs": [],
   "source": [
    "from random import sample\n",
    "df = pd.read_csv(\"Train_rev1.csv\").sample(2500)"
   ]
  },
  {
   "cell_type": "markdown",
   "metadata": {},
   "source": [
    "A1. What are the top 5 parts of speech in the job descriptions? How frequently do they appear? How do these numbers change if you exclude stopwords?\n",
    "Hint: nltk.org is a great resource for exploring text mining with Python. There are many examples that are similar to the questions in this assignment."
   ]
  },
  {
   "cell_type": "code",
   "execution_count": 3,
   "metadata": {},
   "outputs": [],
   "source": [
    "import nltk\n",
    "from nltk.corpus import stopwords\n",
    "from nltk import word_tokenize,pos_tag, pos_tag_sents"
   ]
  },
  {
   "cell_type": "code",
   "execution_count": 4,
   "metadata": {},
   "outputs": [],
   "source": [
    "#convert the series to a string\n",
    "from string import punctuation\n",
    "jd = ' '.join(df['FullDescription'])\n",
    "\n",
    "#remove all punctuations\n",
    "for p in punctuation:\n",
    "    jd=jd.replace(p,'')\n",
    "\n",
    "#tokenize the sentence and tag the words\n",
    "tokens = nltk.word_tokenize(jd)\n",
    "words = [token.lower() for token in tokens if len(token) > 1]\n",
    "tags = nltk.pos_tag(words)"
   ]
  },
  {
   "cell_type": "code",
   "execution_count": 5,
   "metadata": {},
   "outputs": [
    {
     "data": {
      "text/plain": [
       "[('NN', 154646), ('JJ', 70168), ('IN', 65957), ('NNS', 51552), ('DT', 36233)]"
      ]
     },
     "execution_count": 5,
     "metadata": {},
     "output_type": "execute_result"
    }
   ],
   "source": [
    "#count the number of part of speech\n",
    "from collections import Counter\n",
    "counts = Counter(tag for word,tag in tags)\n",
    "counts.most_common(5)"
   ]
  },
  {
   "cell_type": "code",
   "execution_count": 6,
   "metadata": {},
   "outputs": [
    {
     "data": {
      "text/plain": [
       "[('NN', 151332), ('JJ', 73088), ('NNS', 50799), ('VBG', 25342), ('VBP', 17052)]"
      ]
     },
     "execution_count": 6,
     "metadata": {},
     "output_type": "execute_result"
    }
   ],
   "source": [
    "#remove stop_words\n",
    "stop_words = set(stopwords.words('english')) \n",
    "filtered_words = [w for w in words if not w in stop_words]\n",
    "\n",
    "#tag the words\n",
    "tags_filtered = nltk.pos_tag(filtered_words)\n",
    "\n",
    "#count the number of part of speech\n",
    "counts_filtered = Counter(tag for word,tag in tags_filtered)\n",
    "counts_filtered.most_common(5)"
   ]
  },
  {
   "cell_type": "markdown",
   "metadata": {},
   "source": [
    "A2. Does this data support Zipf’s law? Plot the most common 100 words in the data against the theoretical prediction of the law. For this question, do not remove stopwords. Also do not perform stemming or lemmatization.\n",
    "Hint: Check http://www.garysieling.com/blog/exploring-zipfs-law-with-python-nltk-scipy-and-matplotlib"
   ]
  },
  {
   "cell_type": "code",
   "execution_count": 7,
   "metadata": {
    "scrolled": false
   },
   "outputs": [],
   "source": [
    "top_100 = Counter(words).most_common(100)"
   ]
  },
  {
   "cell_type": "code",
   "execution_count": 8,
   "metadata": {
    "scrolled": true
   },
   "outputs": [
    {
     "data": {
      "text/plain": [
       "Text(0.5,0,'log(Counts of words)')"
      ]
     },
     "execution_count": 8,
     "metadata": {},
     "output_type": "execute_result"
    },
    {
     "data": {
      "image/png": "[encoded data removed]",
      "text/plain": [
       "<Figure size 432x288 with 1 Axes>"
      ]
     },
     "metadata": {},
     "output_type": "display_data"
    }
   ],
   "source": [
    "import nltk, pylab, math\n",
    "from scipy import stats\n",
    "fdist = nltk.FreqDist(words)\n",
    "w = fdist.most_common()\n",
    "\n",
    "x = [math.log10(i[1]) for i in w][:100]\n",
    "y = [math.log10(i) for i in range(1, len(x))][:100]\n",
    "x.pop()\n",
    "\n",
    "(m, b) = pylab.polyfit(x, y, 1)\n",
    "yp = pylab.polyval([m, b], x)\n",
    "slope, intercept, r_value, p_value, std_err = stats.linregress(x,y)\n",
    "\n",
    "pylab.plot(x, yp)\n",
    "pylab.scatter(x, y)\n",
    "pylab.ylim([min(y), max(y)])\n",
    "pylab.xlim([min(x), max(x)])\n",
    "pylab.grid(True)\n",
    "pylab.ylabel('log(Ranks of words)')\n",
    "pylab.xlabel('log(Counts of words)')"
   ]
  },
  {
   "cell_type": "code",
   "execution_count": 9,
   "metadata": {
    "scrolled": true
   },
   "outputs": [
    {
     "data": {
      "text/plain": [
       "Text(0.5,0,'Counts of words')"
      ]
     },
     "execution_count": 9,
     "metadata": {},
     "output_type": "execute_result"
    },
    {
     "data": {
      "image/png": "[encoded data removed]",
      "text/plain": [
       "<Figure size 432x288 with 1 Axes>"
      ]
     },
     "metadata": {},
     "output_type": "display_data"
    }
   ],
   "source": [
    "x2 = [i[1] for i in w][:100]\n",
    "y2 = range(1, len(x2))[:100]\n",
    "x2.pop()\n",
    "\n",
    "(m, b) = pylab.polyfit(x2, y2, 1)\n",
    "yp = pylab.polyval([m, b], x2)\n",
    "slope, intercept, r_value, p_value, std_err = stats.linregress(x2,y2)\n",
    "\n",
    "pylab.plot(x2, yp)\n",
    "pylab.scatter(x2, y2)\n",
    "pylab.ylim([min(y2), max(y2)])\n",
    "pylab.xlim([min(x2), max(x2)])\n",
    "pylab.grid(True)\n",
    "pylab.ylabel('Ranks of words')\n",
    "pylab.xlabel('Counts of words')"
   ]
  },
  {
   "cell_type": "markdown",
   "metadata": {},
   "source": [
    "A3. If we remove stopwords and lemmatize the data, what are the 10 most common words? What are their frequencies?"
   ]
  },
  {
   "cell_type": "code",
   "execution_count": 10,
   "metadata": {},
   "outputs": [],
   "source": [
    "from nltk.corpus import wordnet\n",
    "\n",
    "def get_wordnet_pos(treebank_tag):\n",
    "\n",
    "    if treebank_tag.startswith('J'):\n",
    "        return wordnet.ADJ\n",
    "    elif treebank_tag.startswith('V'):\n",
    "        return wordnet.VERB\n",
    "    elif treebank_tag.startswith('N'):\n",
    "        return wordnet.NOUN\n",
    "    elif treebank_tag.startswith('R'):\n",
    "        return wordnet.ADV\n",
    "    else:\n",
    "        return None # for easy if-statement \n",
    "    \n",
    "from nltk.stem.wordnet import WordNetLemmatizer\n",
    "lemmatizer = WordNetLemmatizer()\n",
    "l = []\n",
    "for word, tag in tags_filtered:\n",
    "    wntag = get_wordnet_pos(tag)\n",
    "    if wntag is None:# not supply tag in case of None\n",
    "        lemma = lemmatizer.lemmatize(word)\n",
    "        l.append(lemma)\n",
    "    else:\n",
    "        lemma = lemmatizer.lemmatize(word, pos=wntag) \n",
    "        l.append(lemma)"
   ]
  },
  {
   "cell_type": "code",
   "execution_count": 11,
   "metadata": {
    "scrolled": true
   },
   "outputs": [
    {
     "data": {
      "text/plain": [
       "[('work', 5331),\n",
       " ('experience', 4900),\n",
       " ('team', 3203),\n",
       " ('role', 3088),\n",
       " ('client', 2954),\n",
       " ('business', 2930),\n",
       " ('service', 2555),\n",
       " ('skill', 2333),\n",
       " ('manager', 2239),\n",
       " ('within', 2185)]"
      ]
     },
     "execution_count": 11,
     "metadata": {},
     "output_type": "execute_result"
    }
   ],
   "source": [
    "count_lw = Counter(l)\n",
    "top_10 = count_lw.most_common(10)\n",
    "top_10"
   ]
  }
 ],
 "metadata": {
  "kernelspec": {
   "display_name": "Python 3",
   "language": "python",
   "name": "python3"
  },
  "language_info": {
   "codemirror_mode": {
    "name": "ipython",
    "version": 3
   },
   "file_extension": ".py",
   "mimetype": "text/x-python",
   "name": "python",
   "nbconvert_exporter": "python",
   "pygments_lexer": "ipython3",
   "version": "3.6.5"
  }
 },
 "nbformat": 4,
 "nbformat_minor": 2
}
