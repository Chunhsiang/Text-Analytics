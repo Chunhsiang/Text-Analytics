{
 "cells": [
  {
   "cell_type": "markdown",
   "metadata": {},
   "source": [
    "### Part A\n",
    "#### A1"
   ]
  },
  {
   "cell_type": "code",
   "execution_count": 1,
   "metadata": {},
   "outputs": [],
   "source": [
    "import nltk\n",
    "import pandas as pd\n",
    "%matplotlib inline\n",
    "import matplotlib.pyplot as plt\n",
    "\n",
    "raw_data = pd.read_csv('all/Train_rev1/Train_rev1.csv')\n",
    "job = raw_data.sample(n=2500, random_state=99)"
   ]
  },
  {
   "cell_type": "code",
   "execution_count": 2,
   "metadata": {},
   "outputs": [],
   "source": [
    "from nltk import word_tokenize\n",
    "from string import punctuation\n",
    "\n",
    "## Transfrom all words into lowercase and drop the punctuation\n",
    "def preprocess(x):\n",
    "    lowercase= x.lower()\n",
    "    for p in punctuation:\n",
    "        lowercase = lowercase.replace(p,'')\n",
    "    return lowercase\n",
    "\n",
    "token = job['FullDescription'].map(preprocess).map(word_tokenize)\n",
    "token = token.reset_index()['FullDescription']\n",
    "pos_tagging = token.map(nltk.pos_tag)"
   ]
  },
  {
   "cell_type": "code",
   "execution_count": 3,
   "metadata": {},
   "outputs": [
    {
     "data": {
      "text/plain": [
       "NN     156816\n",
       "JJ      69903\n",
       "IN      65426\n",
       "NNS     50777\n",
       "DT      50574\n",
       "dtype: int64"
      ]
     },
     "execution_count": 3,
     "metadata": {},
     "output_type": "execute_result"
    }
   ],
   "source": [
    "tags = []\n",
    "\n",
    "def pos_series(x):\n",
    "    for word, pos in x:\n",
    "        tags.append(pos)\n",
    "pos_tagging.map(pos_series)\n",
    "pd.Series(tags).value_counts()[:5]"
   ]
  },
  {
   "cell_type": "markdown",
   "metadata": {},
   "source": [
    "As we can see, NN (Noun, singular or mass) is the most common POS in the job descriptions. Second most common POS is JJ (Adjective), followed by IN (Preposition or subordinating conjunction), NNS (Noun, plural) and DT (Determiner). "
   ]
  },
  {
   "cell_type": "markdown",
   "metadata": {},
   "source": [
    "#### Excluding Stopwords"
   ]
  },
  {
   "cell_type": "code",
   "execution_count": 4,
   "metadata": {},
   "outputs": [
    {
     "data": {
      "text/plain": [
       "NN     150812\n",
       "JJ      72987\n",
       "NNS     50230\n",
       "VBG     25524\n",
       "VBP     16890\n",
       "dtype: int64"
      ]
     },
     "execution_count": 4,
     "metadata": {},
     "output_type": "execute_result"
    }
   ],
   "source": [
    "from nltk.corpus import stopwords \n",
    "\n",
    "stop_words = set(stopwords.words('english'))\n",
    "\n",
    "filtered_sentence = [] \n",
    "\n",
    "def remove_stopwords(x):\n",
    "    for w in x: \n",
    "        if w not in stop_words: \n",
    "            filtered_sentence.append(w) \n",
    "token.map(remove_stopwords)\n",
    "pos_tagging_without_stopwords = nltk.pos_tag(filtered_sentence)\n",
    "\n",
    "tags_without_stopwords = []\n",
    "\n",
    "for word, pos in pos_tagging_without_stopwords:\n",
    "    tags_without_stopwords.append(pos)\n",
    "pd.Series(tags_without_stopwords).value_counts()[:5]"
   ]
  },
  {
   "cell_type": "markdown",
   "metadata": {},
   "source": [
    "After removing stop words, NN (Noun, singular or mass) is still the most common POS in the job descriptions. JJ (Adjective) is still the second most common POS. NNS (Noun, plural) becomes the third most common POS. VBG (Verb, gerund or present participle) and VBP (Verb, non-3rd person singular present) become fourth and fifth common among all POS. "
   ]
  },
  {
   "cell_type": "markdown",
   "metadata": {},
   "source": [
    "#### A2"
   ]
  },
  {
   "cell_type": "code",
   "execution_count": 5,
   "metadata": {},
   "outputs": [],
   "source": [
    "word_list = []\n",
    "\n",
    "def pos_series(x):\n",
    "    for word, pos in x:\n",
    "        word_list.append(word)\n",
    "pos_tagging.map(pos_series)\n",
    "\n",
    "word_counts = pd.Series(word_list).value_counts()\n",
    "word_rank = word_counts.rank(method='max',ascending=False)\n",
    "top_100_words = word_counts[:100]"
   ]
  },
  {
   "cell_type": "code",
   "execution_count": 6,
   "metadata": {},
   "outputs": [],
   "source": [
    "import math\n",
    "\n",
    "top_100_words = top_100_words.reset_index()\n",
    "top_100_words.columns = ['words','freq']\n",
    "top_100_words['rank'] = top_100_words['freq'].rank(method='max',ascending=False)\n",
    "top_100_words['log_freq'] = top_100_words['freq'].map(math.log)\n",
    "top_100_words['log_rank'] = top_100_words['rank'].map(math.log)\n",
    "top_100_words['norm_log_freq'] = (top_100_words['freq'] / (100*min(top_100_words['freq']))).map(math.log)"
   ]
  },
  {
   "cell_type": "code",
   "execution_count": 7,
   "metadata": {},
   "outputs": [
    {
     "data": {
      "text/plain": [
       "Text(0,0.5,'log(Freq)')"
      ]
     },
     "execution_count": 7,
     "metadata": {},
     "output_type": "execute_result"
    },
    {
     "data": {
      "image/png": "[encoded data removed]",
      "text/plain": [
       "<Figure size 432x288 with 1 Axes>"
      ]
     },
     "metadata": {},
     "output_type": "display_data"
    }
   ],
   "source": [
    "plt.plot(top_100_words['log_rank'],top_100_words['log_freq'],'ro')\n",
    "plt.plot([0,5],[11,6])\n",
    "plt.xlabel('log(Rank)')\n",
    "plt.ylabel('log(Freq)')"
   ]
  },
  {
   "cell_type": "markdown",
   "metadata": {},
   "source": [
    "It seems like our data do support Zipf's law. "
   ]
  },
  {
   "cell_type": "code",
   "execution_count": 9,
   "metadata": {},
   "outputs": [
    {
     "name": "stdout",
     "output_type": "stream",
     "text": [
      "                             Test for Constraints                             \n",
      "==============================================================================\n",
      "                 coef    std err          t      P>|t|      [0.025      0.975]\n",
      "------------------------------------------------------------------------------\n",
      "c0            -0.9677      0.004      8.692      0.000      -0.975      -0.960\n",
      "==============================================================================\n"
     ]
    }
   ],
   "source": [
    "from statsmodels.formula.api import ols\n",
    "formula = 'log_rank ~ 0 + norm_log_freq'\n",
    "results = ols(formula, top_100_words).fit()\n",
    "hypotheses = 'norm_log_freq = -1'\n",
    "t_test = results.t_test(hypotheses)\n",
    "print(t_test)"
   ]
  },
  {
   "cell_type": "markdown",
   "metadata": {},
   "source": [
    "#### A3"
   ]
  },
  {
   "cell_type": "code",
   "execution_count": 15,
   "metadata": {},
   "outputs": [],
   "source": [
    "from nltk.corpus import wordnet\n",
    "\n",
    "def get_wordnet_pos(treebank_tag):\n",
    "    if treebank_tag.startswith('J'):\n",
    "        return wordnet.ADJ\n",
    "    elif treebank_tag.startswith('V'):\n",
    "        return wordnet.VERB\n",
    "    elif treebank_tag.startswith('N'):\n",
    "        return wordnet.NOUN\n",
    "    elif treebank_tag.startswith('R'):\n",
    "        return wordnet.ADV\n",
    "    else:\n",
    "        return None"
   ]
  },
  {
   "cell_type": "code",
   "execution_count": 16,
   "metadata": {},
   "outputs": [
    {
     "data": {
      "text/plain": [
       "work          5187\n",
       "experience    4863\n",
       "role          3133\n",
       "team          3052\n",
       "client        2994\n",
       "business      2864\n",
       "service       2438\n",
       "skill         2320\n",
       "sale          2209\n",
       "within        2181\n",
       "dtype: int64"
      ]
     },
     "execution_count": 16,
     "metadata": {},
     "output_type": "execute_result"
    }
   ],
   "source": [
    "from nltk.stem.wordnet import WordNetLemmatizer\n",
    "\n",
    "lemmatizer = WordNetLemmatizer()\n",
    "l = []\n",
    "for word, tag in pos_tagging_without_stopwords:\n",
    "    wntag = get_wordnet_pos(tag)\n",
    "    if wntag is None:\n",
    "        lemma = lemmatizer.lemmatize(word)\n",
    "        l.append(lemma)\n",
    "    else:\n",
    "        lemma = lemmatizer.lemmatize(word, pos=wntag) \n",
    "        l.append(lemma)\n",
    "\n",
    "pd.Series(l).value_counts()[:10]"
   ]
  },
  {
   "cell_type": "code",
   "execution_count": null,
   "metadata": {},
   "outputs": [],
   "source": []
  }
 ],
 "metadata": {
  "kernelspec": {
   "display_name": "Python 3",
   "language": "python",
   "name": "python3"
  },
  "language_info": {
   "codemirror_mode": {
    "name": "ipython",
    "version": 3
   },
   "file_extension": ".py",
   "mimetype": "text/x-python",
   "name": "python",
   "nbconvert_exporter": "python",
   "pygments_lexer": "ipython3",
   "version": "3.6.5"
  }
 },
 "nbformat": 4,
 "nbformat_minor": 2
}
