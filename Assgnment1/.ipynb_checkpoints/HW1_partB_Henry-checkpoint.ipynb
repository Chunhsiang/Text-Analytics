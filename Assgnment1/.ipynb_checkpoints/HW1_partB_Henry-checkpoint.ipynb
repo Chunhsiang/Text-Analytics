{
 "cells": [
  {
   "cell_type": "code",
   "execution_count": 1,
   "metadata": {
    "scrolled": false
   },
   "outputs": [
    {
     "name": "stdout",
     "output_type": "stream",
     "text": [
      "Populating the interactive namespace from numpy and matplotlib\n"
     ]
    }
   ],
   "source": [
    "import pandas as pd\n",
    "import nltk\n",
    "from nltk.tokenize import word_tokenize\n",
    "import sklearn\n",
    "from patsy import dmatrices\n",
    "%pylab inline"
   ]
  },
  {
   "cell_type": "code",
   "execution_count": 2,
   "metadata": {},
   "outputs": [],
   "source": [
    "train_o = pd.read_csv(\"all/Train_rev1.csv\")"
   ]
  },
  {
   "cell_type": "code",
   "execution_count": 3,
   "metadata": {},
   "outputs": [],
   "source": [
    "train = train_o.sample(n = 2500, random_state = 1)"
   ]
  },
  {
   "cell_type": "code",
   "execution_count": 4,
   "metadata": {},
   "outputs": [],
   "source": [
    "test = train_o.sample(n = 2500, random_state = 2)"
   ]
  },
  {
   "cell_type": "code",
   "execution_count": 5,
   "metadata": {},
   "outputs": [
    {
     "data": {
      "text/plain": [
       "full_time    585\n",
       "part_time     92\n",
       "Name: ContractType, dtype: int64"
      ]
     },
     "execution_count": 5,
     "metadata": {},
     "output_type": "execute_result"
    }
   ],
   "source": [
    "train[\"ContractType\"].value_counts()"
   ]
  },
  {
   "cell_type": "code",
   "execution_count": 6,
   "metadata": {},
   "outputs": [
    {
     "data": {
      "text/plain": [
       "permanent    1520\n",
       "contract      286\n",
       "Name: ContractTime, dtype: int64"
      ]
     },
     "execution_count": 6,
     "metadata": {},
     "output_type": "execute_result"
    }
   ],
   "source": [
    "train[\"ContractTime\"].value_counts()"
   ]
  },
  {
   "cell_type": "code",
   "execution_count": 7,
   "metadata": {
    "collapsed": true
   },
   "outputs": [
    {
     "data": {
      "text/plain": [
       "IT Jobs                             356\n",
       "Engineering Jobs                    254\n",
       "Accounting & Finance Jobs           219\n",
       "Healthcare & Nursing Jobs           212\n",
       "Other/General Jobs                  180\n",
       "Sales Jobs                          170\n",
       "Teaching Jobs                       154\n",
       "Hospitality & Catering Jobs         113\n",
       "PR, Advertising & Marketing Jobs     93\n",
       "Trade & Construction Jobs            86\n",
       "Retail Jobs                          80\n",
       "Customer Services Jobs               75\n",
       "HR & Recruitment Jobs                75\n",
       "Admin Jobs                           72\n",
       "Legal Jobs                           44\n",
       "Social work Jobs                     35\n",
       "Energy, Oil & Gas Jobs               33\n",
       "Logistics & Warehouse Jobs           32\n",
       "Scientific & QA Jobs                 32\n",
       "Consultancy Jobs                     31\n",
       "Manufacturing Jobs                   29\n",
       "Charity & Voluntary Jobs             27\n",
       "Travel Jobs                          25\n",
       "Maintenance Jobs                     23\n",
       "Graduate Jobs                        15\n",
       "Creative & Design Jobs               15\n",
       "Property Jobs                        11\n",
       "Domestic help & Cleaning Jobs         8\n",
       "Part time Jobs                        1\n",
       "Name: Category, dtype: int64"
      ]
     },
     "execution_count": 7,
     "metadata": {},
     "output_type": "execute_result"
    }
   ],
   "source": [
    "train[\"Category\"].value_counts()"
   ]
  },
  {
   "cell_type": "code",
   "execution_count": 8,
   "metadata": {},
   "outputs": [
    {
     "data": {
      "text/plain": [
       "UK                              443\n",
       "London                          325\n",
       "South East London               103\n",
       "The City                         68\n",
       "Birmingham                       40\n",
       "Leeds                            33\n",
       "Central London                   30\n",
       "Manchester                       29\n",
       "Surrey                           24\n",
       "West Midlands                    23\n",
       "Leicester                        23\n",
       "Sheffield                        22\n",
       "Nottingham                       19\n",
       "Milton Keynes                    19\n",
       "Reading                          18\n",
       "Aberdeen                         17\n",
       "Hampshire                        17\n",
       "Bristol                          16\n",
       "Oxford                           16\n",
       "Hertfordshire                    16\n",
       "Cambridge                        16\n",
       "South West London                15\n",
       "Newcastle Upon Tyne              14\n",
       "Slough                           12\n",
       "Liverpool                        12\n",
       "East Sheen                       12\n",
       "Oxfordshire                      12\n",
       "Berkshire                        11\n",
       "East Midlands                    11\n",
       "Kent                             11\n",
       "                               ... \n",
       "Colwyn Bay                        1\n",
       "Keighley                          1\n",
       "Bridgnorth                        1\n",
       "Greenwich                         1\n",
       "Benfleet                          1\n",
       "Angus                             1\n",
       "Johnstone                         1\n",
       "Windsor                           1\n",
       "Dartford                          1\n",
       "Clacton-On-Sea                    1\n",
       "Southend-On-Sea                   1\n",
       "Normanton                         1\n",
       "Swanley                           1\n",
       "Altrincham                        1\n",
       "Blaydon Burn                      1\n",
       "Stockland Bristol                 1\n",
       "St. Albans                        1\n",
       "Llanelli                          1\n",
       "Shropshire                        1\n",
       "Havant                            1\n",
       "Tuttington                        1\n",
       "New Malden                        1\n",
       "Blackpool                         1\n",
       "Sale                              1\n",
       "Glasgow East Investment Park      1\n",
       "Chipping Norton                   1\n",
       "Tetbury                           1\n",
       "East Sussex                       1\n",
       "Oldham                            1\n",
       "Sompting                          1\n",
       "Name: LocationNormalized, Length: 476, dtype: int64"
      ]
     },
     "execution_count": 8,
     "metadata": {},
     "output_type": "execute_result"
    }
   ],
   "source": [
    "train[\"LocationNormalized\"].value_counts()"
   ]
  },
  {
   "cell_type": "code",
   "execution_count": 148,
   "metadata": {},
   "outputs": [],
   "source": [
    "#train[\"ContractType\"].value_counts()\n",
    "\n",
    "#train[\"ContractTime\"].value_counts()\n",
    "\n",
    "#train[\"Category\"].value_counts()\n",
    "\n",
    "#train[\"LocationNormalized\"].value_counts()"
   ]
  },
  {
   "cell_type": "code",
   "execution_count": 9,
   "metadata": {},
   "outputs": [],
   "source": [
    "train_num = train[[\"ContractType\", \"ContractTime\",\"Category\", \"LocationNormalized\"]].copy()\n",
    "test_num = train[[\"ContractType\", \"ContractTime\",\"Category\", \"LocationNormalized\"]].copy()"
   ]
  },
  {
   "cell_type": "code",
   "execution_count": 10,
   "metadata": {},
   "outputs": [],
   "source": [
    "London_area = [\"London\", \"South East London\", \"Central London\"]"
   ]
  },
  {
   "cell_type": "code",
   "execution_count": 11,
   "metadata": {},
   "outputs": [],
   "source": [
    "train_num[\"LocationNormalized\"] = train_num[\"LocationNormalized\"].map(lambda x: \"London_area\" if x in London_area else \"Others\")\n",
    "test_num[\"LocationNormalized\"] = test_num[\"LocationNormalized\"].map(lambda x: \"London_area\" if x in London_area else \"Others\")"
   ]
  },
  {
   "cell_type": "code",
   "execution_count": 12,
   "metadata": {
    "scrolled": true
   },
   "outputs": [
    {
     "data": {
      "text/html": [
       "<div>\n",
       "<style scoped>\n",
       "    .dataframe tbody tr th:only-of-type {\n",
       "        vertical-align: middle;\n",
       "    }\n",
       "\n",
       "    .dataframe tbody tr th {\n",
       "        vertical-align: top;\n",
       "    }\n",
       "\n",
       "    .dataframe thead th {\n",
       "        text-align: right;\n",
       "    }\n",
       "</style>\n",
       "<table border=\"1\" class=\"dataframe\">\n",
       "  <thead>\n",
       "    <tr style=\"text-align: right;\">\n",
       "      <th></th>\n",
       "      <th>ContractType</th>\n",
       "      <th>ContractTime</th>\n",
       "      <th>Category</th>\n",
       "      <th>LocationNormalized</th>\n",
       "    </tr>\n",
       "  </thead>\n",
       "  <tbody>\n",
       "    <tr>\n",
       "      <th>179687</th>\n",
       "      <td>NaN</td>\n",
       "      <td>permanent</td>\n",
       "      <td>IT Jobs</td>\n",
       "      <td>London_area</td>\n",
       "    </tr>\n",
       "    <tr>\n",
       "      <th>18497</th>\n",
       "      <td>NaN</td>\n",
       "      <td>NaN</td>\n",
       "      <td>Hospitality &amp; Catering Jobs</td>\n",
       "      <td>London_area</td>\n",
       "    </tr>\n",
       "    <tr>\n",
       "      <th>86382</th>\n",
       "      <td>NaN</td>\n",
       "      <td>permanent</td>\n",
       "      <td>Legal Jobs</td>\n",
       "      <td>Others</td>\n",
       "    </tr>\n",
       "    <tr>\n",
       "      <th>12805</th>\n",
       "      <td>NaN</td>\n",
       "      <td>permanent</td>\n",
       "      <td>Retail Jobs</td>\n",
       "      <td>Others</td>\n",
       "    </tr>\n",
       "    <tr>\n",
       "      <th>203497</th>\n",
       "      <td>NaN</td>\n",
       "      <td>permanent</td>\n",
       "      <td>IT Jobs</td>\n",
       "      <td>Others</td>\n",
       "    </tr>\n",
       "  </tbody>\n",
       "</table>\n",
       "</div>"
      ],
      "text/plain": [
       "       ContractType ContractTime                     Category  \\\n",
       "179687          NaN    permanent                      IT Jobs   \n",
       "18497           NaN          NaN  Hospitality & Catering Jobs   \n",
       "86382           NaN    permanent                   Legal Jobs   \n",
       "12805           NaN    permanent                  Retail Jobs   \n",
       "203497          NaN    permanent                      IT Jobs   \n",
       "\n",
       "       LocationNormalized  \n",
       "179687        London_area  \n",
       "18497         London_area  \n",
       "86382              Others  \n",
       "12805              Others  \n",
       "203497             Others  "
      ]
     },
     "execution_count": 12,
     "metadata": {},
     "output_type": "execute_result"
    }
   ],
   "source": [
    "train_num[:5]"
   ]
  },
  {
   "cell_type": "code",
   "execution_count": 13,
   "metadata": {},
   "outputs": [],
   "source": [
    "high_cut = train_o[\"SalaryNormalized\"].describe()[\"75%\"]"
   ]
  },
  {
   "cell_type": "code",
   "execution_count": 14,
   "metadata": {
    "scrolled": true
   },
   "outputs": [],
   "source": [
    "train_num_y = train[\"SalaryNormalized\"].map(lambda x : \"high\" if x >= high_cut else \"low\")\n",
    "test_num_y = test[\"SalaryNormalized\"].map(lambda x : \"high\" if x >= high_cut else \"low\")"
   ]
  },
  {
   "cell_type": "code",
   "execution_count": 15,
   "metadata": {},
   "outputs": [],
   "source": [
    "#train_num.fillna(\"missing\", inplace = True)\n",
    "#test_num.fillna(\"missing\", inplace = True)"
   ]
  },
  {
   "cell_type": "code",
   "execution_count": 16,
   "metadata": {},
   "outputs": [],
   "source": [
    "from sklearn.naive_bayes import GaussianNB\n",
    "from sklearn.naive_bayes import MultinomialNB\n",
    "#gnb = GaussianNB()\n",
    "gnb = MultinomialNB()"
   ]
  },
  {
   "cell_type": "code",
   "execution_count": 17,
   "metadata": {},
   "outputs": [],
   "source": [
    "train_num_d = pd.get_dummies(train_num)\n",
    "test_num_d = pd.get_dummies(test_num)"
   ]
  },
  {
   "cell_type": "code",
   "execution_count": 18,
   "metadata": {},
   "outputs": [
    {
     "data": {
      "text/html": [
       "<div>\n",
       "<style scoped>\n",
       "    .dataframe tbody tr th:only-of-type {\n",
       "        vertical-align: middle;\n",
       "    }\n",
       "\n",
       "    .dataframe tbody tr th {\n",
       "        vertical-align: top;\n",
       "    }\n",
       "\n",
       "    .dataframe thead th {\n",
       "        text-align: right;\n",
       "    }\n",
       "</style>\n",
       "<table border=\"1\" class=\"dataframe\">\n",
       "  <thead>\n",
       "    <tr style=\"text-align: right;\">\n",
       "      <th></th>\n",
       "      <th>ContractType_full_time</th>\n",
       "      <th>ContractType_part_time</th>\n",
       "      <th>ContractTime_contract</th>\n",
       "      <th>ContractTime_permanent</th>\n",
       "      <th>Category_Accounting &amp; Finance Jobs</th>\n",
       "      <th>Category_Admin Jobs</th>\n",
       "      <th>Category_Charity &amp; Voluntary Jobs</th>\n",
       "      <th>Category_Consultancy Jobs</th>\n",
       "      <th>Category_Creative &amp; Design Jobs</th>\n",
       "      <th>Category_Customer Services Jobs</th>\n",
       "      <th>...</th>\n",
       "      <th>Category_Property Jobs</th>\n",
       "      <th>Category_Retail Jobs</th>\n",
       "      <th>Category_Sales Jobs</th>\n",
       "      <th>Category_Scientific &amp; QA Jobs</th>\n",
       "      <th>Category_Social work Jobs</th>\n",
       "      <th>Category_Teaching Jobs</th>\n",
       "      <th>Category_Trade &amp; Construction Jobs</th>\n",
       "      <th>Category_Travel Jobs</th>\n",
       "      <th>LocationNormalized_London_area</th>\n",
       "      <th>LocationNormalized_Others</th>\n",
       "    </tr>\n",
       "  </thead>\n",
       "  <tbody>\n",
       "    <tr>\n",
       "      <th>179687</th>\n",
       "      <td>0</td>\n",
       "      <td>0</td>\n",
       "      <td>0</td>\n",
       "      <td>1</td>\n",
       "      <td>0</td>\n",
       "      <td>0</td>\n",
       "      <td>0</td>\n",
       "      <td>0</td>\n",
       "      <td>0</td>\n",
       "      <td>0</td>\n",
       "      <td>...</td>\n",
       "      <td>0</td>\n",
       "      <td>0</td>\n",
       "      <td>0</td>\n",
       "      <td>0</td>\n",
       "      <td>0</td>\n",
       "      <td>0</td>\n",
       "      <td>0</td>\n",
       "      <td>0</td>\n",
       "      <td>1</td>\n",
       "      <td>0</td>\n",
       "    </tr>\n",
       "    <tr>\n",
       "      <th>18497</th>\n",
       "      <td>0</td>\n",
       "      <td>0</td>\n",
       "      <td>0</td>\n",
       "      <td>0</td>\n",
       "      <td>0</td>\n",
       "      <td>0</td>\n",
       "      <td>0</td>\n",
       "      <td>0</td>\n",
       "      <td>0</td>\n",
       "      <td>0</td>\n",
       "      <td>...</td>\n",
       "      <td>0</td>\n",
       "      <td>0</td>\n",
       "      <td>0</td>\n",
       "      <td>0</td>\n",
       "      <td>0</td>\n",
       "      <td>0</td>\n",
       "      <td>0</td>\n",
       "      <td>0</td>\n",
       "      <td>1</td>\n",
       "      <td>0</td>\n",
       "    </tr>\n",
       "    <tr>\n",
       "      <th>86382</th>\n",
       "      <td>0</td>\n",
       "      <td>0</td>\n",
       "      <td>0</td>\n",
       "      <td>1</td>\n",
       "      <td>0</td>\n",
       "      <td>0</td>\n",
       "      <td>0</td>\n",
       "      <td>0</td>\n",
       "      <td>0</td>\n",
       "      <td>0</td>\n",
       "      <td>...</td>\n",
       "      <td>0</td>\n",
       "      <td>0</td>\n",
       "      <td>0</td>\n",
       "      <td>0</td>\n",
       "      <td>0</td>\n",
       "      <td>0</td>\n",
       "      <td>0</td>\n",
       "      <td>0</td>\n",
       "      <td>0</td>\n",
       "      <td>1</td>\n",
       "    </tr>\n",
       "  </tbody>\n",
       "</table>\n",
       "<p>3 rows × 35 columns</p>\n",
       "</div>"
      ],
      "text/plain": [
       "        ContractType_full_time  ContractType_part_time  ContractTime_contract  \\\n",
       "179687                       0                       0                      0   \n",
       "18497                        0                       0                      0   \n",
       "86382                        0                       0                      0   \n",
       "\n",
       "        ContractTime_permanent  Category_Accounting & Finance Jobs  \\\n",
       "179687                       1                                   0   \n",
       "18497                        0                                   0   \n",
       "86382                        1                                   0   \n",
       "\n",
       "        Category_Admin Jobs  Category_Charity & Voluntary Jobs  \\\n",
       "179687                    0                                  0   \n",
       "18497                     0                                  0   \n",
       "86382                     0                                  0   \n",
       "\n",
       "        Category_Consultancy Jobs  Category_Creative & Design Jobs  \\\n",
       "179687                          0                                0   \n",
       "18497                           0                                0   \n",
       "86382                           0                                0   \n",
       "\n",
       "        Category_Customer Services Jobs            ...              \\\n",
       "179687                                0            ...               \n",
       "18497                                 0            ...               \n",
       "86382                                 0            ...               \n",
       "\n",
       "        Category_Property Jobs  Category_Retail Jobs  Category_Sales Jobs  \\\n",
       "179687                       0                     0                    0   \n",
       "18497                        0                     0                    0   \n",
       "86382                        0                     0                    0   \n",
       "\n",
       "        Category_Scientific & QA Jobs  Category_Social work Jobs  \\\n",
       "179687                              0                          0   \n",
       "18497                               0                          0   \n",
       "86382                               0                          0   \n",
       "\n",
       "        Category_Teaching Jobs  Category_Trade & Construction Jobs  \\\n",
       "179687                       0                                   0   \n",
       "18497                        0                                   0   \n",
       "86382                        0                                   0   \n",
       "\n",
       "        Category_Travel Jobs  LocationNormalized_London_area  \\\n",
       "179687                     0                               1   \n",
       "18497                      0                               1   \n",
       "86382                      0                               0   \n",
       "\n",
       "        LocationNormalized_Others  \n",
       "179687                          0  \n",
       "18497                           0  \n",
       "86382                           1  \n",
       "\n",
       "[3 rows x 35 columns]"
      ]
     },
     "execution_count": 18,
     "metadata": {},
     "output_type": "execute_result"
    }
   ],
   "source": [
    "train_num_d[:3]"
   ]
  },
  {
   "cell_type": "code",
   "execution_count": 19,
   "metadata": {},
   "outputs": [],
   "source": [
    "classifier = gnb.fit(train_num_d , train_num_y)"
   ]
  },
  {
   "cell_type": "code",
   "execution_count": 20,
   "metadata": {
    "scrolled": true
   },
   "outputs": [],
   "source": [
    "y_pred_train =classifier.predict(train_num_d)\n",
    "y_pred_test =classifier.predict(test_num_d)"
   ]
  },
  {
   "cell_type": "code",
   "execution_count": 21,
   "metadata": {},
   "outputs": [
    {
     "name": "stdout",
     "output_type": "stream",
     "text": [
      "0.7844\n"
     ]
    }
   ],
   "source": [
    "from sklearn import metrics\n",
    "print(metrics.accuracy_score(train_num_y, y_pred_train))"
   ]
  },
  {
   "cell_type": "code",
   "execution_count": 22,
   "metadata": {
    "scrolled": true
   },
   "outputs": [
    {
     "name": "stdout",
     "output_type": "stream",
     "text": [
      "0.7076\n"
     ]
    }
   ],
   "source": [
    "print(metrics.accuracy_score(test_num_y, y_pred_test))"
   ]
  },
  {
   "cell_type": "code",
   "execution_count": 23,
   "metadata": {
    "scrolled": true
   },
   "outputs": [
    {
     "name": "stdout",
     "output_type": "stream",
     "text": [
      "[[  49  558]\n",
      " [ 173 1720]]\n"
     ]
    }
   ],
   "source": [
    "print(metrics.confusion_matrix(test_num_y, y_pred_test, labels=(\"high\", \"low\")))"
   ]
  },
  {
   "cell_type": "code",
   "execution_count": null,
   "metadata": {},
   "outputs": [],
   "source": []
  },
  {
   "cell_type": "code",
   "execution_count": null,
   "metadata": {},
   "outputs": [],
   "source": []
  },
  {
   "cell_type": "code",
   "execution_count": 24,
   "metadata": {},
   "outputs": [],
   "source": [
    "from sklearn.feature_extraction.text import TfidfVectorizer"
   ]
  },
  {
   "cell_type": "code",
   "execution_count": 25,
   "metadata": {},
   "outputs": [],
   "source": [
    "import string\n",
    "\n",
    "def tokenize(text):\n",
    "    text = \"\".join([ch for ch in text if ch not in string.punctuation])\n",
    "    tokens = nltk.word_tokenize(text)\n",
    "    return tokens"
   ]
  },
  {
   "cell_type": "code",
   "execution_count": 26,
   "metadata": {},
   "outputs": [],
   "source": [
    "#train[\"FullDescription\"] = train[\"FullDescription\"].map(tokenize)\n",
    "\n",
    "#test[\"FullDescription\"] = test[\"FullDescription\"].map(tokenize)"
   ]
  },
  {
   "cell_type": "code",
   "execution_count": 27,
   "metadata": {},
   "outputs": [],
   "source": [
    "vectorizer = TfidfVectorizer(\n",
    " tokenizer=tokenize,\n",
    " use_idf = False,\n",
    " stop_words='english')"
   ]
  },
  {
   "cell_type": "code",
   "execution_count": 28,
   "metadata": {},
   "outputs": [],
   "source": [
    "X_train = vectorizer.fit_transform(train[\"FullDescription\"])\n",
    "X_test = vectorizer.transform(test[\"FullDescription\"])"
   ]
  },
  {
   "cell_type": "code",
   "execution_count": 29,
   "metadata": {},
   "outputs": [],
   "source": [
    "Y_train = train[\"SalaryNormalized\"].map(lambda x : \"high\" if x >= high_cut else \"low\")\n",
    "Y_test = test[\"SalaryNormalized\"].map(lambda x : \"high\" if x >= high_cut else \"low\")"
   ]
  },
  {
   "cell_type": "code",
   "execution_count": 30,
   "metadata": {},
   "outputs": [],
   "source": [
    "X_train_d = X_train.todense()\n",
    "\n",
    "X_test_d = X_test.todense()"
   ]
  },
  {
   "cell_type": "code",
   "execution_count": 31,
   "metadata": {},
   "outputs": [],
   "source": [
    "classifier_2 = gnb.fit(X_train_d, Y_train)"
   ]
  },
  {
   "cell_type": "code",
   "execution_count": 32,
   "metadata": {},
   "outputs": [],
   "source": [
    "y_pred_2 =classifier_2.predict(X_train_d)"
   ]
  },
  {
   "cell_type": "code",
   "execution_count": 33,
   "metadata": {},
   "outputs": [
    {
     "data": {
      "text/plain": [
       "low     2498\n",
       "high       2\n",
       "dtype: int64"
      ]
     },
     "execution_count": 33,
     "metadata": {},
     "output_type": "execute_result"
    }
   ],
   "source": [
    "pd.Series(y_pred_2).value_counts()"
   ]
  },
  {
   "cell_type": "code",
   "execution_count": 34,
   "metadata": {},
   "outputs": [
    {
     "name": "stdout",
     "output_type": "stream",
     "text": [
      "0.7596\n"
     ]
    }
   ],
   "source": [
    "print(metrics.accuracy_score(Y_train, y_pred_2))"
   ]
  },
  {
   "cell_type": "code",
   "execution_count": 35,
   "metadata": {},
   "outputs": [],
   "source": [
    "y_pred_t_2 = classifier_2.predict(X_test_d)"
   ]
  },
  {
   "cell_type": "code",
   "execution_count": 36,
   "metadata": {},
   "outputs": [
    {
     "name": "stdout",
     "output_type": "stream",
     "text": [
      "0.7572\n"
     ]
    }
   ],
   "source": [
    "print(metrics.accuracy_score(Y_test, y_pred_t_2))"
   ]
  },
  {
   "cell_type": "code",
   "execution_count": 37,
   "metadata": {
    "scrolled": true
   },
   "outputs": [
    {
     "name": "stdout",
     "output_type": "stream",
     "text": [
      "[[   0  607]\n",
      " [   0 1893]]\n"
     ]
    }
   ],
   "source": [
    "print(metrics.confusion_matrix(Y_test, y_pred_t_2, labels=(\"high\", \"low\")))"
   ]
  },
  {
   "cell_type": "code",
   "execution_count": null,
   "metadata": {},
   "outputs": [],
   "source": []
  },
  {
   "cell_type": "code",
   "execution_count": 38,
   "metadata": {},
   "outputs": [],
   "source": [
    "from operator import itemgetter"
   ]
  },
  {
   "cell_type": "code",
   "execution_count": 39,
   "metadata": {
    "scrolled": true
   },
   "outputs": [
    {
     "name": "stdout",
     "output_type": "stream",
     "text": [
      "\n",
      "The top 10 most informative features for topic code high: \n",
      "looking ,client ,sales ,business ,working ,skills ,team ,role ,work ,experience\n"
     ]
    }
   ],
   "source": [
    "N = 10\n",
    "vocabulary = np.array([t for t, i in sorted(vectorizer.vocabulary_.items(), key=itemgetter(1))])\n",
    "\n",
    "topN = np.argsort(classifier_2.coef_[0])[-N:]\n",
    "print(\"\\nThe top %d most informative features for topic code %s: \\n%s\" % (N, \"high\", \" ,\".join(vocabulary[topN])))"
   ]
  },
  {
   "cell_type": "code",
   "execution_count": 40,
   "metadata": {},
   "outputs": [
    {
     "name": "stdout",
     "output_type": "stream",
     "text": [
      "\n",
      "The top 10 most informative features for topic code low: \n",
      "�negotiable ,redruth ,docs ,docklands ,dnsbind ,dno ,dml ,wwwtotaljobscomjobseekingbilingualgermanbusinessdevelopmentsalesmanagerjob ,dmj ,django\n"
     ]
    }
   ],
   "source": [
    "topN = np.argsort(classifier_2.coef_[0])[:N]\n",
    "print(\"\\nThe top %d most informative features for topic code %s: \\n%s\" % (N, \"low\", \" ,\".join(vocabulary[topN])))"
   ]
  },
  {
   "cell_type": "code",
   "execution_count": null,
   "metadata": {},
   "outputs": [],
   "source": []
  },
  {
   "cell_type": "code",
   "execution_count": 203,
   "metadata": {
    "scrolled": true
   },
   "outputs": [],
   "source": [
    "X_train_combine = np.concatenate((np.array(train_num_d), X_train_d), axis=1)\n",
    "X_test_combine = np.concatenate((np.array(test_num_d), X_test_d), axis=1)"
   ]
  },
  {
   "cell_type": "code",
   "execution_count": 204,
   "metadata": {},
   "outputs": [],
   "source": [
    "classifier_3 = gnb.fit(X_train_combine, Y_train)"
   ]
  },
  {
   "cell_type": "code",
   "execution_count": 205,
   "metadata": {},
   "outputs": [],
   "source": [
    "y_pred_3 =classifier_3.predict(X_train_combine)"
   ]
  },
  {
   "cell_type": "code",
   "execution_count": 206,
   "metadata": {},
   "outputs": [
    {
     "name": "stdout",
     "output_type": "stream",
     "text": [
      "0.76\n"
     ]
    }
   ],
   "source": [
    "print(metrics.accuracy_score(Y_train, y_pred_3))"
   ]
  },
  {
   "cell_type": "code",
   "execution_count": 207,
   "metadata": {},
   "outputs": [],
   "source": [
    "y_pred_t_3 = classifier_3.predict(X_test_combine)"
   ]
  },
  {
   "cell_type": "code",
   "execution_count": 208,
   "metadata": {},
   "outputs": [
    {
     "name": "stdout",
     "output_type": "stream",
     "text": [
      "0.7572\n"
     ]
    }
   ],
   "source": [
    "print(metrics.accuracy_score(Y_test, y_pred_t_3))"
   ]
  },
  {
   "cell_type": "code",
   "execution_count": 209,
   "metadata": {
    "scrolled": false
   },
   "outputs": [
    {
     "name": "stdout",
     "output_type": "stream",
     "text": [
      "[[   0  607]\n",
      " [   0 1893]]\n"
     ]
    }
   ],
   "source": [
    "print(metrics.confusion_matrix(Y_test, y_pred_t_3, labels=(\"high\", \"low\")))"
   ]
  },
  {
   "cell_type": "code",
   "execution_count": null,
   "metadata": {},
   "outputs": [],
   "source": []
  },
  {
   "cell_type": "code",
   "execution_count": null,
   "metadata": {},
   "outputs": [],
   "source": []
  }
 ],
 "metadata": {
  "kernelspec": {
   "display_name": "Python 3",
   "language": "python",
   "name": "python3"
  },
  "language_info": {
   "codemirror_mode": {
    "name": "ipython",
    "version": 3
   },
   "file_extension": ".py",
   "mimetype": "text/x-python",
   "name": "python",
   "nbconvert_exporter": "python",
   "pygments_lexer": "ipython3",
   "version": "3.6.5"
  }
 },
 "nbformat": 4,
 "nbformat_minor": 2
}
