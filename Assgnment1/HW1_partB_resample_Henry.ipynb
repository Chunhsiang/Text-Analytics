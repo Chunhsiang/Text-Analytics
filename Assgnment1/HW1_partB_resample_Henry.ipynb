{
 "cells": [
  {
   "cell_type": "code",
   "execution_count": 38,
   "metadata": {
    "scrolled": false
   },
   "outputs": [
    {
     "name": "stdout",
     "output_type": "stream",
     "text": [
      "Populating the interactive namespace from numpy and matplotlib\n"
     ]
    },
    {
     "name": "stderr",
     "output_type": "stream",
     "text": [
      "/Users/chunhsiangchang/anaconda2/envs/Python3/lib/python3.6/site-packages/IPython/core/magics/pylab.py:160: UserWarning: pylab import has clobbered these variables: ['test']\n",
      "`%matplotlib` prevents importing * from pylab and numpy\n",
      "  \"\\n`%matplotlib` prevents importing * from pylab and numpy\"\n"
     ]
    }
   ],
   "source": [
    "import pandas as pd\n",
    "import nltk\n",
    "from nltk.tokenize import word_tokenize\n",
    "import sklearn\n",
    "from patsy import dmatrices\n",
    "%pylab inline"
   ]
  },
  {
   "cell_type": "code",
   "execution_count": 39,
   "metadata": {},
   "outputs": [],
   "source": [
    "train_o = pd.read_csv(\"all/Train_rev1.csv\")"
   ]
  },
  {
   "cell_type": "code",
   "execution_count": 40,
   "metadata": {},
   "outputs": [],
   "source": [
    "train = train_o.sample(n = 2500, random_state = 1)"
   ]
  },
  {
   "cell_type": "code",
   "execution_count": 41,
   "metadata": {},
   "outputs": [],
   "source": [
    "test = train_o.sample(n = 2500, random_state = 2)"
   ]
  },
  {
   "cell_type": "code",
   "execution_count": 42,
   "metadata": {
    "scrolled": true
   },
   "outputs": [
    {
     "data": {
      "text/plain": [
       "full_time    585\n",
       "part_time     92\n",
       "Name: ContractType, dtype: int64"
      ]
     },
     "execution_count": 42,
     "metadata": {},
     "output_type": "execute_result"
    }
   ],
   "source": [
    "train[\"ContractType\"].value_counts()"
   ]
  },
  {
   "cell_type": "code",
   "execution_count": 43,
   "metadata": {},
   "outputs": [
    {
     "data": {
      "text/plain": [
       "permanent    1520\n",
       "contract      286\n",
       "Name: ContractTime, dtype: int64"
      ]
     },
     "execution_count": 43,
     "metadata": {},
     "output_type": "execute_result"
    }
   ],
   "source": [
    "train[\"ContractTime\"].value_counts()"
   ]
  },
  {
   "cell_type": "code",
   "execution_count": 44,
   "metadata": {},
   "outputs": [
    {
     "data": {
      "text/plain": [
       "IT Jobs                             356\n",
       "Engineering Jobs                    254\n",
       "Accounting & Finance Jobs           219\n",
       "Healthcare & Nursing Jobs           212\n",
       "Other/General Jobs                  180\n",
       "Sales Jobs                          170\n",
       "Teaching Jobs                       154\n",
       "Hospitality & Catering Jobs         113\n",
       "PR, Advertising & Marketing Jobs     93\n",
       "Trade & Construction Jobs            86\n",
       "Name: Category, dtype: int64"
      ]
     },
     "execution_count": 44,
     "metadata": {},
     "output_type": "execute_result"
    }
   ],
   "source": [
    "train[\"Category\"].value_counts()[:10]"
   ]
  },
  {
   "cell_type": "code",
   "execution_count": 45,
   "metadata": {},
   "outputs": [
    {
     "data": {
      "text/plain": [
       "UK                   443\n",
       "London               325\n",
       "South East London    103\n",
       "The City              68\n",
       "Birmingham            40\n",
       "Leeds                 33\n",
       "Central London        30\n",
       "Manchester            29\n",
       "Surrey                24\n",
       "Leicester             23\n",
       "Name: LocationNormalized, dtype: int64"
      ]
     },
     "execution_count": 45,
     "metadata": {},
     "output_type": "execute_result"
    }
   ],
   "source": [
    "train[\"LocationNormalized\"].value_counts()[:10]"
   ]
  },
  {
   "cell_type": "code",
   "execution_count": 46,
   "metadata": {},
   "outputs": [],
   "source": [
    "#train[\"ContractType\"].value_counts()\n",
    "\n",
    "#train[\"ContractTime\"].value_counts()\n",
    "\n",
    "#train[\"Category\"].value_counts()\n",
    "\n",
    "#train[\"LocationNormalized\"].value_counts()"
   ]
  },
  {
   "cell_type": "code",
   "execution_count": 47,
   "metadata": {},
   "outputs": [],
   "source": [
    "train_num = train[[\"ContractType\", \"ContractTime\",\"Category\", \"LocationNormalized\"]].copy()\n",
    "test_num = train[[\"ContractType\", \"ContractTime\",\"Category\", \"LocationNormalized\"]].copy()"
   ]
  },
  {
   "cell_type": "code",
   "execution_count": 48,
   "metadata": {},
   "outputs": [],
   "source": [
    "London_area = [\"London\", \"South East London\", \"Central London\"]"
   ]
  },
  {
   "cell_type": "code",
   "execution_count": 49,
   "metadata": {},
   "outputs": [],
   "source": [
    "train_num[\"LocationNormalized\"] = train_num[\"LocationNormalized\"].map(lambda x: \"London_area\" if x in London_area else \"Others\")\n",
    "test_num[\"LocationNormalized\"] = test_num[\"LocationNormalized\"].map(lambda x: \"London_area\" if x in London_area else \"Others\")"
   ]
  },
  {
   "cell_type": "code",
   "execution_count": 50,
   "metadata": {
    "scrolled": true
   },
   "outputs": [
    {
     "data": {
      "text/html": [
       "<div>\n",
       "<style scoped>\n",
       "    .dataframe tbody tr th:only-of-type {\n",
       "        vertical-align: middle;\n",
       "    }\n",
       "\n",
       "    .dataframe tbody tr th {\n",
       "        vertical-align: top;\n",
       "    }\n",
       "\n",
       "    .dataframe thead th {\n",
       "        text-align: right;\n",
       "    }\n",
       "</style>\n",
       "<table border=\"1\" class=\"dataframe\">\n",
       "  <thead>\n",
       "    <tr style=\"text-align: right;\">\n",
       "      <th></th>\n",
       "      <th>ContractType</th>\n",
       "      <th>ContractTime</th>\n",
       "      <th>Category</th>\n",
       "      <th>LocationNormalized</th>\n",
       "    </tr>\n",
       "  </thead>\n",
       "  <tbody>\n",
       "    <tr>\n",
       "      <th>179687</th>\n",
       "      <td>NaN</td>\n",
       "      <td>permanent</td>\n",
       "      <td>IT Jobs</td>\n",
       "      <td>London_area</td>\n",
       "    </tr>\n",
       "    <tr>\n",
       "      <th>18497</th>\n",
       "      <td>NaN</td>\n",
       "      <td>NaN</td>\n",
       "      <td>Hospitality &amp; Catering Jobs</td>\n",
       "      <td>London_area</td>\n",
       "    </tr>\n",
       "    <tr>\n",
       "      <th>86382</th>\n",
       "      <td>NaN</td>\n",
       "      <td>permanent</td>\n",
       "      <td>Legal Jobs</td>\n",
       "      <td>Others</td>\n",
       "    </tr>\n",
       "    <tr>\n",
       "      <th>12805</th>\n",
       "      <td>NaN</td>\n",
       "      <td>permanent</td>\n",
       "      <td>Retail Jobs</td>\n",
       "      <td>Others</td>\n",
       "    </tr>\n",
       "    <tr>\n",
       "      <th>203497</th>\n",
       "      <td>NaN</td>\n",
       "      <td>permanent</td>\n",
       "      <td>IT Jobs</td>\n",
       "      <td>Others</td>\n",
       "    </tr>\n",
       "  </tbody>\n",
       "</table>\n",
       "</div>"
      ],
      "text/plain": [
       "       ContractType ContractTime                     Category  \\\n",
       "179687          NaN    permanent                      IT Jobs   \n",
       "18497           NaN          NaN  Hospitality & Catering Jobs   \n",
       "86382           NaN    permanent                   Legal Jobs   \n",
       "12805           NaN    permanent                  Retail Jobs   \n",
       "203497          NaN    permanent                      IT Jobs   \n",
       "\n",
       "       LocationNormalized  \n",
       "179687        London_area  \n",
       "18497         London_area  \n",
       "86382              Others  \n",
       "12805              Others  \n",
       "203497             Others  "
      ]
     },
     "execution_count": 50,
     "metadata": {},
     "output_type": "execute_result"
    }
   ],
   "source": [
    "train_num[:5]"
   ]
  },
  {
   "cell_type": "code",
   "execution_count": 51,
   "metadata": {},
   "outputs": [],
   "source": [
    "high_cut = train_o[\"SalaryNormalized\"].describe()[\"75%\"]"
   ]
  },
  {
   "cell_type": "code",
   "execution_count": 52,
   "metadata": {
    "scrolled": true
   },
   "outputs": [],
   "source": [
    "train_num_y = train[\"SalaryNormalized\"].map(lambda x : \"high\" if x >= high_cut else \"low\")\n",
    "test_num_y = test[\"SalaryNormalized\"].map(lambda x : \"high\" if x >= high_cut else \"low\")"
   ]
  },
  {
   "cell_type": "code",
   "execution_count": 53,
   "metadata": {},
   "outputs": [],
   "source": [
    "#train_num.fillna(\"missing\", inplace = True)\n",
    "#test_num.fillna(\"missing\", inplace = True)"
   ]
  },
  {
   "cell_type": "code",
   "execution_count": 54,
   "metadata": {},
   "outputs": [],
   "source": [
    "from sklearn.naive_bayes import GaussianNB\n",
    "from sklearn.naive_bayes import MultinomialNB\n",
    "#gnb = GaussianNB()\n",
    "gnb = MultinomialNB()"
   ]
  },
  {
   "cell_type": "code",
   "execution_count": 55,
   "metadata": {},
   "outputs": [],
   "source": [
    "train_num_d = pd.get_dummies(train_num)\n",
    "test_num_d = pd.get_dummies(test_num)"
   ]
  },
  {
   "cell_type": "code",
   "execution_count": 56,
   "metadata": {
    "scrolled": false
   },
   "outputs": [
    {
     "data": {
      "text/html": [
       "<div>\n",
       "<style scoped>\n",
       "    .dataframe tbody tr th:only-of-type {\n",
       "        vertical-align: middle;\n",
       "    }\n",
       "\n",
       "    .dataframe tbody tr th {\n",
       "        vertical-align: top;\n",
       "    }\n",
       "\n",
       "    .dataframe thead th {\n",
       "        text-align: right;\n",
       "    }\n",
       "</style>\n",
       "<table border=\"1\" class=\"dataframe\">\n",
       "  <thead>\n",
       "    <tr style=\"text-align: right;\">\n",
       "      <th></th>\n",
       "      <th>ContractType_full_time</th>\n",
       "      <th>ContractType_part_time</th>\n",
       "      <th>ContractTime_contract</th>\n",
       "      <th>ContractTime_permanent</th>\n",
       "      <th>Category_Accounting &amp; Finance Jobs</th>\n",
       "      <th>Category_Admin Jobs</th>\n",
       "      <th>Category_Charity &amp; Voluntary Jobs</th>\n",
       "      <th>Category_Consultancy Jobs</th>\n",
       "      <th>Category_Creative &amp; Design Jobs</th>\n",
       "      <th>Category_Customer Services Jobs</th>\n",
       "      <th>...</th>\n",
       "      <th>Category_Property Jobs</th>\n",
       "      <th>Category_Retail Jobs</th>\n",
       "      <th>Category_Sales Jobs</th>\n",
       "      <th>Category_Scientific &amp; QA Jobs</th>\n",
       "      <th>Category_Social work Jobs</th>\n",
       "      <th>Category_Teaching Jobs</th>\n",
       "      <th>Category_Trade &amp; Construction Jobs</th>\n",
       "      <th>Category_Travel Jobs</th>\n",
       "      <th>LocationNormalized_London_area</th>\n",
       "      <th>LocationNormalized_Others</th>\n",
       "    </tr>\n",
       "  </thead>\n",
       "  <tbody>\n",
       "    <tr>\n",
       "      <th>179687</th>\n",
       "      <td>0</td>\n",
       "      <td>0</td>\n",
       "      <td>0</td>\n",
       "      <td>1</td>\n",
       "      <td>0</td>\n",
       "      <td>0</td>\n",
       "      <td>0</td>\n",
       "      <td>0</td>\n",
       "      <td>0</td>\n",
       "      <td>0</td>\n",
       "      <td>...</td>\n",
       "      <td>0</td>\n",
       "      <td>0</td>\n",
       "      <td>0</td>\n",
       "      <td>0</td>\n",
       "      <td>0</td>\n",
       "      <td>0</td>\n",
       "      <td>0</td>\n",
       "      <td>0</td>\n",
       "      <td>1</td>\n",
       "      <td>0</td>\n",
       "    </tr>\n",
       "    <tr>\n",
       "      <th>18497</th>\n",
       "      <td>0</td>\n",
       "      <td>0</td>\n",
       "      <td>0</td>\n",
       "      <td>0</td>\n",
       "      <td>0</td>\n",
       "      <td>0</td>\n",
       "      <td>0</td>\n",
       "      <td>0</td>\n",
       "      <td>0</td>\n",
       "      <td>0</td>\n",
       "      <td>...</td>\n",
       "      <td>0</td>\n",
       "      <td>0</td>\n",
       "      <td>0</td>\n",
       "      <td>0</td>\n",
       "      <td>0</td>\n",
       "      <td>0</td>\n",
       "      <td>0</td>\n",
       "      <td>0</td>\n",
       "      <td>1</td>\n",
       "      <td>0</td>\n",
       "    </tr>\n",
       "    <tr>\n",
       "      <th>86382</th>\n",
       "      <td>0</td>\n",
       "      <td>0</td>\n",
       "      <td>0</td>\n",
       "      <td>1</td>\n",
       "      <td>0</td>\n",
       "      <td>0</td>\n",
       "      <td>0</td>\n",
       "      <td>0</td>\n",
       "      <td>0</td>\n",
       "      <td>0</td>\n",
       "      <td>...</td>\n",
       "      <td>0</td>\n",
       "      <td>0</td>\n",
       "      <td>0</td>\n",
       "      <td>0</td>\n",
       "      <td>0</td>\n",
       "      <td>0</td>\n",
       "      <td>0</td>\n",
       "      <td>0</td>\n",
       "      <td>0</td>\n",
       "      <td>1</td>\n",
       "    </tr>\n",
       "  </tbody>\n",
       "</table>\n",
       "<p>3 rows × 35 columns</p>\n",
       "</div>"
      ],
      "text/plain": [
       "        ContractType_full_time  ContractType_part_time  ContractTime_contract  \\\n",
       "179687                       0                       0                      0   \n",
       "18497                        0                       0                      0   \n",
       "86382                        0                       0                      0   \n",
       "\n",
       "        ContractTime_permanent  Category_Accounting & Finance Jobs  \\\n",
       "179687                       1                                   0   \n",
       "18497                        0                                   0   \n",
       "86382                        1                                   0   \n",
       "\n",
       "        Category_Admin Jobs  Category_Charity & Voluntary Jobs  \\\n",
       "179687                    0                                  0   \n",
       "18497                     0                                  0   \n",
       "86382                     0                                  0   \n",
       "\n",
       "        Category_Consultancy Jobs  Category_Creative & Design Jobs  \\\n",
       "179687                          0                                0   \n",
       "18497                           0                                0   \n",
       "86382                           0                                0   \n",
       "\n",
       "        Category_Customer Services Jobs            ...              \\\n",
       "179687                                0            ...               \n",
       "18497                                 0            ...               \n",
       "86382                                 0            ...               \n",
       "\n",
       "        Category_Property Jobs  Category_Retail Jobs  Category_Sales Jobs  \\\n",
       "179687                       0                     0                    0   \n",
       "18497                        0                     0                    0   \n",
       "86382                        0                     0                    0   \n",
       "\n",
       "        Category_Scientific & QA Jobs  Category_Social work Jobs  \\\n",
       "179687                              0                          0   \n",
       "18497                               0                          0   \n",
       "86382                               0                          0   \n",
       "\n",
       "        Category_Teaching Jobs  Category_Trade & Construction Jobs  \\\n",
       "179687                       0                                   0   \n",
       "18497                        0                                   0   \n",
       "86382                        0                                   0   \n",
       "\n",
       "        Category_Travel Jobs  LocationNormalized_London_area  \\\n",
       "179687                     0                               1   \n",
       "18497                      0                               1   \n",
       "86382                      0                               0   \n",
       "\n",
       "        LocationNormalized_Others  \n",
       "179687                          0  \n",
       "18497                           0  \n",
       "86382                           1  \n",
       "\n",
       "[3 rows x 35 columns]"
      ]
     },
     "execution_count": 56,
     "metadata": {},
     "output_type": "execute_result"
    }
   ],
   "source": [
    "train_num_d[:3]"
   ]
  },
  {
   "cell_type": "code",
   "execution_count": 96,
   "metadata": {},
   "outputs": [
    {
     "data": {
      "text/plain": [
       "pandas.core.frame.DataFrame"
      ]
     },
     "execution_count": 96,
     "metadata": {},
     "output_type": "execute_result"
    }
   ],
   "source": [
    "type(train_num_d)"
   ]
  },
  {
   "cell_type": "code",
   "execution_count": 102,
   "metadata": {},
   "outputs": [
    {
     "data": {
      "text/plain": [
       "ContractType_full_time                       0\n",
       "ContractType_part_time                       0\n",
       "ContractTime_contract                        0\n",
       "ContractTime_permanent                       1\n",
       "Category_Accounting & Finance Jobs           0\n",
       "Category_Admin Jobs                          0\n",
       "Category_Charity & Voluntary Jobs            0\n",
       "Category_Consultancy Jobs                    0\n",
       "Category_Creative & Design Jobs              0\n",
       "Category_Customer Services Jobs              0\n",
       "Category_Domestic help & Cleaning Jobs       0\n",
       "Category_Energy, Oil & Gas Jobs              0\n",
       "Category_Engineering Jobs                    0\n",
       "Category_Graduate Jobs                       0\n",
       "Category_HR & Recruitment Jobs               0\n",
       "Category_Healthcare & Nursing Jobs           0\n",
       "Category_Hospitality & Catering Jobs         0\n",
       "Category_IT Jobs                             1\n",
       "Category_Legal Jobs                          0\n",
       "Category_Logistics & Warehouse Jobs          0\n",
       "Category_Maintenance Jobs                    0\n",
       "Category_Manufacturing Jobs                  0\n",
       "Category_Other/General Jobs                  0\n",
       "Category_PR, Advertising & Marketing Jobs    0\n",
       "Category_Part time Jobs                      0\n",
       "Category_Property Jobs                       0\n",
       "Category_Retail Jobs                         0\n",
       "Category_Sales Jobs                          0\n",
       "Category_Scientific & QA Jobs                0\n",
       "Category_Social work Jobs                    0\n",
       "Category_Teaching Jobs                       0\n",
       "Category_Trade & Construction Jobs           0\n",
       "Category_Travel Jobs                         0\n",
       "LocationNormalized_London_area               1\n",
       "LocationNormalized_Others                    0\n",
       "Name: 179687, dtype: uint8"
      ]
     },
     "execution_count": 102,
     "metadata": {},
     "output_type": "execute_result"
    }
   ],
   "source": [
    "train_num_d.loc[179687]"
   ]
  },
  {
   "cell_type": "code",
   "execution_count": 57,
   "metadata": {},
   "outputs": [],
   "source": [
    "classifier = gnb.fit(train_num_d , train_num_y)"
   ]
  },
  {
   "cell_type": "code",
   "execution_count": 58,
   "metadata": {
    "scrolled": true
   },
   "outputs": [],
   "source": [
    "y_pred_train =classifier.predict(train_num_d)\n",
    "y_pred_test =classifier.predict(test_num_d)"
   ]
  },
  {
   "cell_type": "code",
   "execution_count": 59,
   "metadata": {},
   "outputs": [
    {
     "name": "stdout",
     "output_type": "stream",
     "text": [
      "0.7844\n"
     ]
    }
   ],
   "source": [
    "from sklearn import metrics\n",
    "print(metrics.accuracy_score(train_num_y, y_pred_train))"
   ]
  },
  {
   "cell_type": "code",
   "execution_count": 60,
   "metadata": {
    "scrolled": true
   },
   "outputs": [
    {
     "name": "stdout",
     "output_type": "stream",
     "text": [
      "0.7076\n"
     ]
    }
   ],
   "source": [
    "print(metrics.accuracy_score(test_num_y, y_pred_test))"
   ]
  },
  {
   "cell_type": "code",
   "execution_count": 61,
   "metadata": {
    "scrolled": false
   },
   "outputs": [
    {
     "name": "stdout",
     "output_type": "stream",
     "text": [
      "[[  49  558]\n",
      " [ 173 1720]]\n"
     ]
    }
   ],
   "source": [
    "print(metrics.confusion_matrix(test_num_y, y_pred_test, labels=(\"high\", \"low\")))"
   ]
  },
  {
   "cell_type": "code",
   "execution_count": null,
   "metadata": {},
   "outputs": [],
   "source": []
  },
  {
   "cell_type": "code",
   "execution_count": 88,
   "metadata": {},
   "outputs": [
    {
     "data": {
      "text/plain": [
       "array([179687,  18497, 147337, ...,  14017,  69584, 139635])"
      ]
     },
     "execution_count": 88,
     "metadata": {},
     "output_type": "execute_result"
    }
   ],
   "source": [
    "train_resampled.index.values"
   ]
  },
  {
   "cell_type": "code",
   "execution_count": 62,
   "metadata": {},
   "outputs": [],
   "source": [
    "from sklearn.feature_extraction.text import TfidfVectorizer"
   ]
  },
  {
   "cell_type": "code",
   "execution_count": 63,
   "metadata": {},
   "outputs": [],
   "source": [
    "import string\n",
    "\n",
    "def tokenize(text):\n",
    "    text = \"\".join([ch for ch in text if ch not in string.punctuation])\n",
    "    tokens = nltk.word_tokenize(text)\n",
    "    return tokens"
   ]
  },
  {
   "cell_type": "code",
   "execution_count": 64,
   "metadata": {},
   "outputs": [],
   "source": [
    "#train[\"FullDescription\"] = train[\"FullDescription\"].map(tokenize)\n",
    "\n",
    "#test[\"FullDescription\"] = test[\"FullDescription\"].map(tokenize)"
   ]
  },
  {
   "cell_type": "code",
   "execution_count": 65,
   "metadata": {},
   "outputs": [],
   "source": [
    "vectorizer = TfidfVectorizer(\n",
    " tokenizer=tokenize,\n",
    " use_idf = False,\n",
    " stop_words='english')"
   ]
  },
  {
   "cell_type": "code",
   "execution_count": 66,
   "metadata": {
    "scrolled": false
   },
   "outputs": [],
   "source": [
    "train_adjusted = train.copy()\n",
    "train_adjusted[\"SalaryNormalized\"] = train[\"SalaryNormalized\"].map(lambda x : \"high\" if x >= high_cut else \"low\")"
   ]
  },
  {
   "cell_type": "code",
   "execution_count": 67,
   "metadata": {},
   "outputs": [],
   "source": [
    "high_used = train_adjusted[train_adjusted[\"SalaryNormalized\"] == \"high\"]"
   ]
  },
  {
   "cell_type": "code",
   "execution_count": 68,
   "metadata": {},
   "outputs": [],
   "source": [
    "low_observation = train_adjusted[train_adjusted[\"SalaryNormalized\"] == \"low\"]\n",
    "low_used = low_observation.sample(len(high_used), random_state = 1)"
   ]
  },
  {
   "cell_type": "code",
   "execution_count": 69,
   "metadata": {},
   "outputs": [],
   "source": [
    "train_resampled = pd.concat([high_used, low_used])"
   ]
  },
  {
   "cell_type": "code",
   "execution_count": null,
   "metadata": {},
   "outputs": [],
   "source": []
  },
  {
   "cell_type": "code",
   "execution_count": 70,
   "metadata": {},
   "outputs": [],
   "source": [
    "X_train = vectorizer.fit_transform(train_resampled[\"FullDescription\"])\n",
    "X_test = vectorizer.transform(test[\"FullDescription\"])"
   ]
  },
  {
   "cell_type": "code",
   "execution_count": 72,
   "metadata": {},
   "outputs": [],
   "source": [
    "Y_train = train_resampled[\"SalaryNormalized\"]\n",
    "Y_test = test[\"SalaryNormalized\"].map(lambda x : \"high\" if x >= high_cut else \"low\")"
   ]
  },
  {
   "cell_type": "code",
   "execution_count": 73,
   "metadata": {},
   "outputs": [],
   "source": [
    "X_train_d = X_train.todense()\n",
    "\n",
    "X_test_d = X_test.todense()"
   ]
  },
  {
   "cell_type": "code",
   "execution_count": 74,
   "metadata": {},
   "outputs": [],
   "source": [
    "classifier_2 = gnb.fit(X_train_d, Y_train)"
   ]
  },
  {
   "cell_type": "code",
   "execution_count": 75,
   "metadata": {},
   "outputs": [],
   "source": [
    "y_pred_2 =classifier_2.predict(X_train_d)"
   ]
  },
  {
   "cell_type": "code",
   "execution_count": 77,
   "metadata": {},
   "outputs": [
    {
     "name": "stdout",
     "output_type": "stream",
     "text": [
      "0.8552412645590682\n"
     ]
    }
   ],
   "source": [
    "print(metrics.accuracy_score(Y_train, y_pred_2))"
   ]
  },
  {
   "cell_type": "code",
   "execution_count": 78,
   "metadata": {},
   "outputs": [],
   "source": [
    "y_pred_t_2 = classifier_2.predict(X_test_d)"
   ]
  },
  {
   "cell_type": "code",
   "execution_count": 79,
   "metadata": {},
   "outputs": [
    {
     "name": "stdout",
     "output_type": "stream",
     "text": [
      "0.7428\n"
     ]
    }
   ],
   "source": [
    "print(metrics.accuracy_score(Y_test, y_pred_t_2))"
   ]
  },
  {
   "cell_type": "code",
   "execution_count": 80,
   "metadata": {
    "scrolled": false
   },
   "outputs": [
    {
     "name": "stdout",
     "output_type": "stream",
     "text": [
      "[[ 519   88]\n",
      " [ 555 1338]]\n"
     ]
    }
   ],
   "source": [
    "print(metrics.confusion_matrix(Y_test, y_pred_t_2, labels=(\"high\", \"low\")))"
   ]
  },
  {
   "cell_type": "code",
   "execution_count": null,
   "metadata": {},
   "outputs": [],
   "source": []
  },
  {
   "cell_type": "code",
   "execution_count": 81,
   "metadata": {},
   "outputs": [],
   "source": [
    "from operator import itemgetter"
   ]
  },
  {
   "cell_type": "code",
   "execution_count": 82,
   "metadata": {
    "scrolled": true
   },
   "outputs": [
    {
     "name": "stdout",
     "output_type": "stream",
     "text": [
      "\n",
      "The top 10 most informative features for topic code high: \n",
      "looking ,client ,sales ,skills ,business ,working ,team ,work ,role ,experience\n"
     ]
    }
   ],
   "source": [
    "N = 10\n",
    "vocabulary = np.array([t for t, i in sorted(vectorizer.vocabulary_.items(), key=itemgetter(1))])\n",
    "\n",
    "topN = np.argsort(classifier_2.coef_[0])[-N:]\n",
    "print(\"\\nThe top %d most informative features for topic code %s: \\n%s\" % (N, \"high\", \" ,\".join(vocabulary[topN])))"
   ]
  },
  {
   "cell_type": "code",
   "execution_count": 83,
   "metadata": {},
   "outputs": [
    {
     "name": "stdout",
     "output_type": "stream",
     "text": [
      "\n",
      "The top 10 most informative features for topic code low: \n",
      "�negotiable ,fpr ,fpml ,fpgapld ,fpga ,fox ,foundationwinformshands ,foundationqualificationsmicrosoft ,fosters ,fpsoflngtopside\n"
     ]
    }
   ],
   "source": [
    "topN = np.argsort(classifier_2.coef_[0])[:N]\n",
    "print(\"\\nThe top %d most informative features for topic code %s: \\n%s\" % (N, \"low\", \" ,\".join(vocabulary[topN])))"
   ]
  },
  {
   "cell_type": "code",
   "execution_count": null,
   "metadata": {},
   "outputs": [],
   "source": []
  },
  {
   "cell_type": "code",
   "execution_count": 104,
   "metadata": {
    "scrolled": true
   },
   "outputs": [],
   "source": [
    "X_train_combine = np.concatenate((np.array(train_num_d.loc[train_resampled.index.values]), X_train_d), axis=1)\n",
    "X_test_combine = np.concatenate((np.array(test_num_d), X_test_d), axis=1)"
   ]
  },
  {
   "cell_type": "code",
   "execution_count": 105,
   "metadata": {},
   "outputs": [],
   "source": [
    "classifier_3 = gnb.fit(X_train_combine, Y_train)"
   ]
  },
  {
   "cell_type": "code",
   "execution_count": 106,
   "metadata": {},
   "outputs": [],
   "source": [
    "y_pred_3 =classifier_3.predict(X_train_combine)"
   ]
  },
  {
   "cell_type": "code",
   "execution_count": 107,
   "metadata": {},
   "outputs": [
    {
     "name": "stdout",
     "output_type": "stream",
     "text": [
      "0.8036605657237936\n"
     ]
    }
   ],
   "source": [
    "print(metrics.accuracy_score(Y_train, y_pred_3))"
   ]
  },
  {
   "cell_type": "code",
   "execution_count": 108,
   "metadata": {},
   "outputs": [],
   "source": [
    "y_pred_t_3 = classifier_3.predict(X_test_combine)"
   ]
  },
  {
   "cell_type": "code",
   "execution_count": 109,
   "metadata": {},
   "outputs": [
    {
     "name": "stdout",
     "output_type": "stream",
     "text": [
      "0.69\n"
     ]
    }
   ],
   "source": [
    "print(metrics.accuracy_score(Y_test, y_pred_t_3))"
   ]
  },
  {
   "cell_type": "code",
   "execution_count": 110,
   "metadata": {
    "scrolled": true
   },
   "outputs": [
    {
     "name": "stdout",
     "output_type": "stream",
     "text": [
      "[[ 390  217]\n",
      " [ 558 1335]]\n"
     ]
    }
   ],
   "source": [
    "print(metrics.confusion_matrix(Y_test, y_pred_t_3, labels=(\"high\", \"low\")))"
   ]
  },
  {
   "cell_type": "code",
   "execution_count": null,
   "metadata": {},
   "outputs": [],
   "source": []
  }
 ],
 "metadata": {
  "kernelspec": {
   "display_name": "Python 3",
   "language": "python",
   "name": "python3"
  },
  "language_info": {
   "codemirror_mode": {
    "name": "ipython",
    "version": 3
   },
   "file_extension": ".py",
   "mimetype": "text/x-python",
   "name": "python",
   "nbconvert_exporter": "python",
   "pygments_lexer": "ipython3",
   "version": "3.6.6"
  }
 },
 "nbformat": 4,
 "nbformat_minor": 2
}
